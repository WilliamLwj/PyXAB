{
 "cells": [
  {
   "cell_type": "markdown",
   "metadata": {},
   "source": [
    "# Cumulative Regret Leaderboard"
   ]
  },
  {
   "cell_type": "code",
   "execution_count": 1,
   "metadata": {},
   "outputs": [
    {
     "name": "stdout",
     "output_type": "stream",
     "text": [
      "Requirement already satisfied: PyXAB in c:\\users\\owner\\anaconda3\\lib\\site-packages (0.1.2)\n",
      "Requirement already satisfied: numpy>=1.20.3 in c:\\users\\owner\\anaconda3\\lib\\site-packages (from PyXAB) (1.20.3)\n",
      "Requirement already satisfied: matplotlib in c:\\users\\owner\\anaconda3\\lib\\site-packages (from PyXAB) (3.4.3)\n",
      "Requirement already satisfied: pillow>=6.2.0 in c:\\users\\owner\\anaconda3\\lib\\site-packages (from matplotlib->PyXAB) (8.4.0)\n",
      "Requirement already satisfied: cycler>=0.10 in c:\\users\\owner\\anaconda3\\lib\\site-packages (from matplotlib->PyXAB) (0.10.0)\n",
      "Requirement already satisfied: pyparsing>=2.2.1 in c:\\users\\owner\\anaconda3\\lib\\site-packages (from matplotlib->PyXAB) (3.0.4)\n",
      "Requirement already satisfied: python-dateutil>=2.7 in c:\\users\\owner\\anaconda3\\lib\\site-packages (from matplotlib->PyXAB) (2.8.2)\n",
      "Requirement already satisfied: kiwisolver>=1.0.1 in c:\\users\\owner\\anaconda3\\lib\\site-packages (from matplotlib->PyXAB) (1.3.1)\n",
      "Requirement already satisfied: six in c:\\users\\owner\\anaconda3\\lib\\site-packages (from cycler>=0.10->matplotlib->PyXAB) (1.16.0)\n"
     ]
    }
   ],
   "source": [
    "!pip install --upgrade PyXAB"
   ]
  },
  {
   "cell_type": "code",
   "execution_count": 9,
   "metadata": {},
   "outputs": [
    {
     "name": "stdout",
     "output_type": "stream",
     "text": [
      "C:\\Users\\Owner\\anaconda3\\lib\\site-packages\\PyXAB\\algos\\VHCT.py\n"
     ]
    }
   ],
   "source": [
    "from PyXAB.synthetic_obj import *\n",
    "from PyXAB.algos import *\n",
    "\n",
    "from PyXAB.partition.BinaryPartition import BinaryPartition\n",
    "\n",
    "import PyXAB\n",
    "print(PyXAB.algos.VHCT.__file__)\n",
    "\n",
    "import matplotlib.pyplot as plt\n",
    "import numpy as np"
   ]
  },
  {
   "cell_type": "markdown",
   "metadata": {},
   "source": [
    "Define the main function"
   ]
  },
  {
   "cell_type": "code",
   "execution_count": 3,
   "metadata": {},
   "outputs": [],
   "source": [
    "\n",
    "def main(algo_list, target, domain, partition, noise=0.1, rounds=1000):\n",
    "    algo_dictionary = {\n",
    "        \"T-HOO\": HOO.T_HOO(rounds=rounds, domain=domain, partition=partition),\n",
    "        \"HCT\": HCT.HCT(domain=domain, partition=partition),\n",
    "        \"VHCT\": VHCT.VHCT(domain=domain, partition=partition),\n",
    "        \"POO\": POO.POO(\n",
    "            rounds=rounds, domain=domain, partition=partition, algo=HOO.T_HOO\n",
    "        ),\n",
    "        \"PCT\": PCT.PCT(rounds=rounds, domain=domain, partition=partition),\n",
    "        \"VPCT\": VPCT.VPCT(rounds=rounds, domain=domain, partition=partition),\n",
    "    }\n",
    "\n",
    "    for name in algo_list:\n",
    "        print(name, \": training\")\n",
    "        algo = algo_dictionary[name]\n",
    "        regret_list = []\n",
    "        regret = 0\n",
    "        for t in range(1, rounds + 1):\n",
    "            point = algo.pull(t)\n",
    "            reward = target.f(point) + np.random.uniform(-noise, noise)\n",
    "            algo.receive_reward(t, reward)\n",
    "            inst_regret = target.fmax - target.f(point)\n",
    "            regret += inst_regret\n",
    "            regret_list.append(regret)\n",
    "    print(regret)\n",
    "    return np.array(regret_list)"
   ]
  },
  {
   "cell_type": "markdown",
   "metadata": {},
   "source": [
    "Define the plot function"
   ]
  },
  {
   "cell_type": "code",
   "execution_count": 4,
   "metadata": {},
   "outputs": [],
   "source": [
    "\n",
    "def compare_regret_withsd(ax, dictionary):\n",
    "    regret = dictionary[\"regret\"]\n",
    "    colors = dictionary[\"colors\"]\n",
    "    labels = dictionary[\"labels\"]\n",
    "\n",
    "    for i in range(len(regret)):\n",
    "        regret_array = regret[i]\n",
    "        x = np.arange((regret_array.shape[1])) + 1\n",
    "        mean = np.mean(regret_array, axis=0)\n",
    "        std = np.std(regret_array, axis=0)\n",
    "        ax.plot(x, mean, linewidth=2, color=colors[i], label=labels[i], alpha=0.9)\n",
    "        l = ax.fill_between(x, mean + 1 * std, mean - 1 * std, color=colors[i], alpha=0.3)\n",
    "    \n",
    "    ax.set_xlabel(dictionary['target'])\n",
    "    return l"
   ]
  },
  {
   "cell_type": "markdown",
   "metadata": {},
   "source": [
    "Run the algorithms on the objectives"
   ]
  },
  {
   "cell_type": "code",
   "execution_count": 5,
   "metadata": {},
   "outputs": [
    {
     "name": "stdout",
     "output_type": "stream",
     "text": [
      "objective function:  <PyXAB.synthetic_obj.DoubleSine.DoubleSine object at 0x000001B95139EB50>\n",
      "domain:  [[0, 1]]\n",
      "T-HOO : training\n",
      "224.45305245359364\n",
      "HCT : training\n",
      "141.66162567151127\n",
      "VHCT : training\n",
      "163.7948681063612\n"
     ]
    },
    {
     "data": {
      "image/png": "[encoded data removed]",
      "text/plain": [
       "<Figure size 864x432 with 6 Axes>"
      ]
     },
     "metadata": {
      "needs_background": "light"
     },
     "output_type": "display_data"
    }
   ],
   "source": [
    "\n",
    "objectives = {\"Garland\": Garland.Garland(),\n",
    "              \"DoubleSine\": DoubleSine.DoubleSine(),\n",
    "              \"HimmelBlau\": Himmelblau.Himmelblau_Normalized(),\n",
    "              \"Ackley\": Ackley.Ackley_Normalized(),\n",
    "              \"Rastrigin2D\": Rastrigin.Rastrigin_Normalized(),\n",
    "              \"Rastrigin10D\": Rastrigin.Rastrigin_Normalized()\n",
    "             }\n",
    "\n",
    "domains =    {\"Garland\": [[0, 1]],\n",
    "              \"DoubleSine\":  [[0, 1]],\n",
    "              \"HimmelBlau\": [[-5, 5], [-5, 5]],\n",
    "              \"Ackley\":  [[-1, 1], [-1, 1]],\n",
    "              \"Rastrigin2D\": [[-1, 1], [-1, 1]],\n",
    "              \"Rastrigin10D\": [[-1, 1], [-1, 1], [-1, 1], [-1, 1], [-1, 1], [-1, 1], [-1, 1], [-1, 1], [-1, 1], [-1, 1]]\n",
    "             }\n",
    "\n",
    "fig, axes = plt.subplots(2, 3, figsize=(12, 6))\n",
    "\n",
    "lists = []\n",
    "for name in objectives.keys():\n",
    "    \n",
    "    target = objectives[name]\n",
    "    domain = domains[name]\n",
    "    partition = BinaryPartition\n",
    "    rounds = 1000\n",
    "    noise = 0\n",
    "\n",
    "    print(\"objective function: \", target)\n",
    "    print(\"domain: \", domain)\n",
    "    trials = 1\n",
    "    regret_array_HOO = np.array(\n",
    "        [main([\"T-HOO\"], target, domain, partition, noise, rounds) for _ in range(trials)]\n",
    "    )\n",
    "    regret_array_HCT = np.array(\n",
    "        [main([\"HCT\"], target, domain, partition, noise, rounds) for _ in range(trials)]\n",
    "    )\n",
    "    regret_array_VHCT = np.array(\n",
    "        [main([\"VHCT\"], target, domain, partition, noise, rounds) for _ in range(trials)]\n",
    "    )\n",
    "    \n",
    "\n",
    "    regret_dic = {\n",
    "        \"target\": name,\n",
    "        \"regret\": [\n",
    "            regret_array_VHCT,\n",
    "            regret_array_HCT,\n",
    "            regret_array_HOO,\n",
    "        ],\n",
    "        \"labels\": [\"VHCT\", \"HCT\", \"T-HOO\", ],\n",
    "        \"colors\": [\"red\", \"blue\", \"green\", ],\n",
    "    }\n",
    "\n",
    "    lists.append(compare_regret_withsd(axes[len(lists)//3, len(lists)%3], regret_dic))\n",
    "\n",
    "lines_labels = [axes[0,0].get_legend_handles_labels()]\n",
    "lines, labels = [sum(lol, []) for lol in zip(*lines_labels)]\n",
    "fig.legend(lines, labels)\n",
    "\n",
    "\n",
    "fig.text(0.5, 0.01, 'Rounds', ha='center', fontsize=14)\n",
    "fig.text(0.04, 0.5, 'Cumulative Regret', va='center', rotation='vertical', fontsize=16)\n",
    "plt.show()"
   ]
  },
  {
   "cell_type": "code",
   "execution_count": null,
   "metadata": {},
   "outputs": [],
   "source": []
  },
  {
   "cell_type": "code",
   "execution_count": null,
   "metadata": {},
   "outputs": [],
   "source": []
  }
 ],
 "metadata": {
  "kernelspec": {
   "display_name": "Python 3 (ipykernel)",
   "language": "python",
   "name": "python3"
  },
  "language_info": {
   "codemirror_mode": {
    "name": "ipython",
    "version": 3
   },
   "file_extension": ".py",
   "mimetype": "text/x-python",
   "name": "python",
   "nbconvert_exporter": "python",
   "pygments_lexer": "ipython3",
   "version": "3.9.7"
  }
 },
 "nbformat": 4,
 "nbformat_minor": 4
}
